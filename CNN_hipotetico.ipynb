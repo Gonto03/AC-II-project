{
 "cells": [
  {
   "cell_type": "code",
   "execution_count": 6,
   "metadata": {},
   "outputs": [],
   "source": [
    "import tensorflow\n",
    "from keras.layers import Dense, Input, Dropout, BatchNormalization, Convolution2D, MaxPooling2D, GlobalMaxPool2D\n",
    "from keras import activations, models, optimizers, losses\n",
    "from keras.activations import relu"
   ]
  },
  {
   "cell_type": "code",
   "execution_count": 7,
   "metadata": {},
   "outputs": [],
   "source": [
    "def get_model_mel():\n",
    "\n",
    "    nclass = 10\n",
    "    inp = Input(shape=(157, 320, 1))\n",
    "    norm_inp = BatchNormalization()(inp)\n",
    "    img_1 = Convolution2D(16, kernel_size=(3, 7), activation=activations.relu)(norm_inp)\n",
    "    img_1 = Convolution2D(16, kernel_size=(3, 7), activation=activations.relu)(img_1)\n",
    "    img_1 = MaxPooling2D(pool_size=(3, 7))(img_1)\n",
    "    img_1 = Dropout(rate=0.1)(img_1)\n",
    "    img_1 = Convolution2D(32, kernel_size=3, activation=activations.relu)(img_1)\n",
    "    img_1 = Convolution2D(32, kernel_size=3, activation=activations.relu)(img_1)\n",
    "    img_1 = MaxPooling2D(pool_size=(3, 3))(img_1)\n",
    "    img_1 = Dropout(rate=0.1)(img_1)\n",
    "    img_1 = Convolution2D(128, kernel_size=3, activation=activations.relu)(img_1)\n",
    "    img_1 = GlobalMaxPool2D()(img_1)\n",
    "    img_1 = Dropout(rate=0.1)(img_1)\n",
    "\n",
    "    dense_1 = BatchNormalization()(Dense(128, activation=activations.relu)(img_1))\n",
    "    dense_1 = BatchNormalization()(Dense(128, activation=activations.relu)(dense_1))\n",
    "    dense_1 = Dense(nclass, activation=activations.softmax)(dense_1)\n",
    "\n",
    "    model = models.Model(inputs=inp, outputs=dense_1)\n",
    "    opt = optimizers.Adam()\n",
    "\n",
    "    model.compile(optimizer=opt, loss=losses.sparse_categorical_crossentropy, metrics=['acc'])\n",
    "    model.summary()\n",
    "    return model"
   ]
  },
  {
   "cell_type": "code",
   "execution_count": 8,
   "metadata": {},
   "outputs": [
    {
     "name": "stdout",
     "output_type": "stream",
     "text": [
      "Model: \"model\"\n",
      "_________________________________________________________________\n",
      " Layer (type)                Output Shape              Param #   \n",
      "=================================================================\n",
      " input_3 (InputLayer)        [(None, 157, 320, 1)]     0         \n",
      "                                                                 \n",
      " batch_normalization_2 (Bat  (None, 157, 320, 1)       4         \n",
      " chNormalization)                                                \n",
      "                                                                 \n",
      " conv2d (Conv2D)             (None, 155, 314, 16)      352       \n",
      "                                                                 \n",
      " conv2d_1 (Conv2D)           (None, 153, 308, 16)      5392      \n",
      "                                                                 \n",
      " max_pooling2d (MaxPooling2  (None, 51, 44, 16)        0         \n",
      " D)                                                              \n",
      "                                                                 \n",
      " dropout (Dropout)           (None, 51, 44, 16)        0         \n",
      "                                                                 \n",
      " conv2d_2 (Conv2D)           (None, 49, 42, 32)        4640      \n",
      "                                                                 \n",
      " conv2d_3 (Conv2D)           (None, 47, 40, 32)        9248      \n",
      "                                                                 \n",
      " max_pooling2d_1 (MaxPoolin  (None, 15, 13, 32)        0         \n",
      " g2D)                                                            \n",
      "                                                                 \n",
      " dropout_1 (Dropout)         (None, 15, 13, 32)        0         \n",
      "                                                                 \n",
      " conv2d_4 (Conv2D)           (None, 13, 11, 128)       36992     \n",
      "                                                                 \n",
      " global_max_pooling2d (Glob  (None, 128)               0         \n",
      " alMaxPooling2D)                                                 \n",
      "                                                                 \n",
      " dropout_2 (Dropout)         (None, 128)               0         \n",
      "                                                                 \n",
      " dense (Dense)               (None, 128)               16512     \n",
      "                                                                 \n",
      " batch_normalization_3 (Bat  (None, 128)               512       \n",
      " chNormalization)                                                \n",
      "                                                                 \n",
      " dense_1 (Dense)             (None, 128)               16512     \n",
      "                                                                 \n",
      " batch_normalization_4 (Bat  (None, 128)               512       \n",
      " chNormalization)                                                \n",
      "                                                                 \n",
      " dense_2 (Dense)             (None, 10)                1290      \n",
      "                                                                 \n",
      "=================================================================\n",
      "Total params: 91966 (359.24 KB)\n",
      "Trainable params: 91452 (357.23 KB)\n",
      "Non-trainable params: 514 (2.01 KB)\n",
      "_________________________________________________________________\n",
      "<keras.src.engine.functional.Functional object at 0x7fd53c7c1f10>\n"
     ]
    }
   ],
   "source": [
    "print(get_model_mel())"
   ]
  }
 ],
 "metadata": {
  "kernelspec": {
   "display_name": "Python 3",
   "language": "python",
   "name": "python3"
  },
  "language_info": {
   "codemirror_mode": {
    "name": "ipython",
    "version": 3
   },
   "file_extension": ".py",
   "mimetype": "text/x-python",
   "name": "python",
   "nbconvert_exporter": "python",
   "pygments_lexer": "ipython3",
   "version": "3.9.5"
  }
 },
 "nbformat": 4,
 "nbformat_minor": 2
}
