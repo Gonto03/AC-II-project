{
 "cells": [
  {
   "cell_type": "code",
   "execution_count": 1,
   "metadata": {},
   "outputs": [],
   "source": [
    "import tensorflow as tf\n",
    "from keras.layers import Dense, Input, InputLayer, Dropout, BatchNormalization, Convolution2D, MaxPooling2D, GlobalMaxPool2D\n",
    "from keras import activations, models, optimizers, losses\n",
    "from keras.activations import relu\n",
    "from keras.models import Sequential"
   ]
  },
  {
   "cell_type": "markdown",
   "metadata": {},
   "source": [
    "## Testing MLP"
   ]
  },
  {
   "cell_type": "code",
   "execution_count": 2,
   "metadata": {},
   "outputs": [
    {
     "name": "stdout",
     "output_type": "stream",
     "text": [
      "Model: \"sequential\"\n",
      "_________________________________________________________________\n",
      " Layer (type)                Output Shape              Param #   \n",
      "=================================================================\n",
      " dense (Dense)               (None, 256)               1024256   \n",
      "                                                                 \n",
      " dense_1 (Dense)             (None, 256)               65792     \n",
      "                                                                 \n",
      " dense_2 (Dense)             (None, 10)                2570      \n",
      "                                                                 \n",
      "=================================================================\n",
      "Total params: 1,092,618\n",
      "Trainable params: 1,092,618\n",
      "Non-trainable params: 0\n",
      "_________________________________________________________________\n"
     ]
    }
   ],
   "source": [
    "mlp = Sequential()\n",
    "mlp.add(InputLayer(input_shape=(4000, ))) # input layer  #4000 = sample rate 1000 * 4sec audio\n",
    "mlp.add(Dense(256, activation='relu')) # hidden layer 1\n",
    "mlp.add(Dense(256, activation='relu')) # hidden layer 2\n",
    "mlp.add(Dense(10, activation='softmax')) # output layer  #10 = n_class\n",
    "\n",
    "mlp.compile(loss='categorical_crossentropy',\n",
    "            metrics=['accuracy'],\n",
    "            optimizer='adam')\n",
    "\n",
    "# summary\n",
    "mlp.summary()"
   ]
  }
 ],
 "metadata": {
  "kernelspec": {
   "display_name": "UrbanSound",
   "language": "python",
   "name": "python3"
  },
  "language_info": {
   "codemirror_mode": {
    "name": "ipython",
    "version": 3
   },
   "file_extension": ".py",
   "mimetype": "text/x-python",
   "name": "python",
   "nbconvert_exporter": "python",
   "pygments_lexer": "ipython3",
   "version": "3.10.13"
  }
 },
 "nbformat": 4,
 "nbformat_minor": 2
}
