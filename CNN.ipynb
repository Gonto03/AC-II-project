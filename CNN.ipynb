{
 "cells": [
  {
   "cell_type": "code",
   "execution_count": null,
   "metadata": {},
   "outputs": [],
   "source": [
    "import tensorflow as tf\n",
    "from keras.layers import Dense, Input, InputLayer, Dropout, BatchNormalization, Convolution2D, MaxPooling2D, GlobalMaxPool2D\n",
    "from keras import activations, models, optimizers, losses\n",
    "from keras.activations import relu\n",
    "from keras.models import Sequential\n",
    "import pandas as pd\n",
    "import os"
   ]
  },
  {
   "cell_type": "code",
   "execution_count": null,
   "metadata": {},
   "outputs": [],
   "source": [
    "metadata = pd.read_csv('../UrbanSound8K/metadata/UrbanSound8K.csv')\n",
    "metadata_fold_one = metadata.query(\"fold == 1\")\n",
    "metadata_fold_one.sort_values(by='slice_file_name')\n",
    "metadata_fold_one\n",
    "\n",
    "# (x_train, y_train) = ((Xaudios, 4000), (Xaudios,))\n",
    "# (x_test, y_test) = ((Yaudios, 4000), (Yaudios,))"
   ]
  },
  {
   "cell_type": "code",
   "execution_count": null,
   "metadata": {},
   "outputs": [],
   "source": [
    "audio_dataset_path='../UrbanSound8K/audio/'\n",
    "audio=[]\n",
    "metadata = pd.read_csv('../UrbanSound8K/metadata/UrbanSound8K.csv')\n",
    "for index_num,row in metadata.iterrows():\n",
    "    file_name = os.path.join(os.path.abspath(audio_dataset_path),'fold'+str(row[\"fold\"])+'/',str(row[\"slice_file_name\"]))\n",
    "    \n",
    "    final_class_labels=row[\"class\"]\n",
    "    \n",
    "    #data=features_extractor(file_name)\n",
    "    audio.append([data,final_class_labels])\n",
    "    \n",
    "# converting extracted_features to Pandas dataframe\n",
    "audio_df=pd.DataFrame(audio,columns=['feature','class'])\n",
    "audio_df.head()"
   ]
  },
  {
   "cell_type": "code",
   "execution_count": null,
   "metadata": {},
   "outputs": [],
   "source": [
    "sum=0\n",
    "for i in range(10):\n",
    "    fold = pd.read_csv(f'datasets/fold{i+1}.csv')\n",
    "    print(f\"Length of fold {i+1} is {len(fold)}\")\n",
    "    sum+=len(fold)\n",
    "\n",
    "print(sum)"
   ]
  },
  {
   "cell_type": "code",
   "execution_count": null,
   "metadata": {},
   "outputs": [],
   "source": [
    "#with open('dataset.yaml') as f:\n",
    "#    data = yaml.load(f, yaml.loader.BaseLoader)"
   ]
  },
  {
   "cell_type": "code",
   "execution_count": null,
   "metadata": {},
   "outputs": [],
   "source": [
    "mlp = Sequential()\n",
    "mlp.add(InputLayer(input_shape=(4000, ))) # input layer  #4000 = sample rate 1000 * 4sec audio\n",
    "mlp.add(Dense(256, activation='relu')) # hidden layer 1\n",
    "mlp.add(Dense(256, activation='relu')) # hidden layer 2\n",
    "mlp.add(Dense(10, activation='softmax')) # output layer  #10 = n_class\n",
    "\n",
    "mlp.compile(loss='categorical_crossentropy',\n",
    "            metrics=['accuracy'],\n",
    "            optimizer='adam')\n",
    "            \n",
    "\n",
    "# summary\n",
    "mlp.summary()"
   ]
  },
  {
   "cell_type": "code",
   "execution_count": null,
   "metadata": {},
   "outputs": [],
   "source": [
    "raw_data = pd.read_csv('datasets/fold1.csv')\n",
    "print(raw_data.shape)\n",
    "\n",
    "for i in range(872):"
   ]
  },
  {
   "cell_type": "code",
   "execution_count": null,
   "metadata": {},
   "outputs": [],
   "source": [
    "nclass = 10\n",
    "inp = Input(shape=(157, 320, 1))\n",
    "norm_inp = BatchNormalization()(inp)\n",
    "audio = Convolution2D(16, kernel_size=(3, 7), activation=activations.relu)(norm_inp)\n",
    "audio = Convolution2D(16, kernel_size=(3, 7), activation=activations.relu)(audio)\n",
    "audio = MaxPooling2D(pool_size=(3, 7))(audio)\n",
    "audio = Dropout(rate=0.1)(audio)\n",
    "audio = Convolution2D(32, kernel_size=3, activation=activations.relu)(audio)\n",
    "audio = Convolution2D(32, kernel_size=3, activation=activations.relu)(audio)\n",
    "audio = MaxPooling2D(pool_size=(3, 3))(audio)\n",
    "audio = Dropout(rate=0.1)(audio)\n",
    "audio = Convolution2D(128, kernel_size=3, activation=activations.relu)(audio)\n",
    "audio = GlobalMaxPool2D()(audio)\n",
    "audio = Dropout(rate=0.1)(audio)\n",
    "\n",
    "dense_1 = BatchNormalization()(Dense(128, activation=activations.relu)(audio))\n",
    "dense_1 = BatchNormalization()(Dense(128, activation=activations.relu)(dense_1))\n",
    "dense_1 = Dense(nclass, activation=activations.softmax)(dense_1)\n",
    "\n",
    "cnn = models.Model(inputs=inp, outputs=dense_1)\n",
    "opt = optimizers.Adam()\n",
    "\n",
    "cnn.compile(optimizer=opt, loss=losses.sparse_categorical_crossentropy, metrics=['acc'])\n",
    "cnn.summary()"
   ]
  },
  {
   "cell_type": "code",
   "execution_count": null,
   "metadata": {},
   "outputs": [],
   "source": [
    "print(cnn)"
   ]
  }
 ],
 "metadata": {
  "language_info": {
   "name": "python"
  }
 },
 "nbformat": 4,
 "nbformat_minor": 2
}
