{
 "cells": [
  {
   "cell_type": "code",
   "execution_count": 19,
   "id": "7dde8cb5",
   "metadata": {
    "scrolled": true
   },
   "outputs": [],
   "source": [
    "import tensorflow as tf\n",
    "import pandas as pd\n",
    "import numpy as np\n",
    "import matplotlib.pyplot as plt\n",
    "\n",
    "import warnings\n",
    "warnings.filterwarnings('ignore')\n",
    "\n",
    "import librosa"
   ]
  },
  {
   "cell_type": "code",
   "execution_count": 4,
   "id": "1c19e71e",
   "metadata": {},
   "outputs": [
    {
     "name": "stdout",
     "output_type": "stream",
     "text": [
      "['dog_bark' 'children_playing' 'car_horn' 'air_conditioner' 'street_music'\n",
      " 'gun_shot' 'siren' 'engine_idling' 'jackhammer' 'drilling']\n"
     ]
    }
   ],
   "source": [
    "metadata = \"../UrbanSound8K/metadata/UrbanSound8K.csv\"\n",
    "df = pd.read_csv(metadata)\n",
    "\n",
    "labels = df['class'].unique()    # obtaining the class labels\n",
    "print(labels)"
   ]
  },
  {
   "cell_type": "markdown",
   "metadata": {},
   "source": [
    "## Loading and resampling an example"
   ]
  },
  {
   "cell_type": "code",
   "execution_count": 12,
   "id": "00332608",
   "metadata": {},
   "outputs": [],
   "source": [
    "_wav_dir_=\"../UrbanSound8K/audio/fold1/\"\n",
    "files = librosa.util.find_files(_wav_dir_)\n",
    "f = files[0]\n",
    "signal, rate = librosa.load(f, sr=None)"
   ]
  },
  {
   "cell_type": "code",
   "execution_count": 17,
   "id": "e1996c55",
   "metadata": {},
   "outputs": [],
   "source": [
    "target_rate = 1000    # resampling frequence\n",
    "new_signal = librosa.resample(signal, orig_sr=rate, target_sr=target_rate)\n",
    "new_signal"
   ]
  }
 ],
 "metadata": {
  "kernelspec": {
   "display_name": "Python 3 (ipykernel)",
   "language": "python",
   "name": "python3"
  },
  "language_info": {
   "codemirror_mode": {
    "name": "ipython",
    "version": 3
   },
   "file_extension": ".py",
   "mimetype": "text/x-python",
   "name": "python",
   "nbconvert_exporter": "python",
   "pygments_lexer": "ipython3",
   "version": "3.8.18"
  }
 },
 "nbformat": 4,
 "nbformat_minor": 5
}
