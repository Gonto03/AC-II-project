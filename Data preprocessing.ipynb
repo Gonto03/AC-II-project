{
 "cells": [
  {
   "cell_type": "code",
   "execution_count": 1,
   "id": "7dde8cb5",
   "metadata": {
    "scrolled": true
   },
   "outputs": [],
   "source": [
    "import tensorflow as tf\n",
    "import pandas as pd\n",
    "import numpy as np\n",
    "import matplotlib.pyplot as plt\n",
    "\n",
    "import warnings\n",
    "warnings.filterwarnings('ignore')\n",
    "\n",
    "import librosa"
   ]
  },
  {
   "cell_type": "code",
   "execution_count": 2,
   "id": "1c19e71e",
   "metadata": {},
   "outputs": [
    {
     "name": "stdout",
     "output_type": "stream",
     "text": [
      "['dog_bark' 'children_playing' 'car_horn' 'air_conditioner' 'street_music'\n",
      " 'gun_shot' 'siren' 'engine_idling' 'jackhammer' 'drilling']\n"
     ]
    }
   ],
   "source": [
    "metadata = \"../UrbanSound8K/metadata/UrbanSound8K.csv\"\n",
    "df = pd.read_csv(metadata)\n",
    "\n",
    "labels = df['class'].unique()    # obtaining the class labels\n",
    "print(labels)"
   ]
  },
  {
   "cell_type": "markdown",
   "metadata": {},
   "source": []
  },
  {
   "cell_type": "markdown",
   "metadata": {},
   "source": [
    "### Loading and resampling an example"
   ]
  },
  {
   "cell_type": "code",
   "execution_count": 3,
   "id": "00332608",
   "metadata": {},
   "outputs": [],
   "source": [
    "_wav_dir_=\"../UrbanSound8K/audio/fold1/\"\n",
    "files = librosa.util.find_files(_wav_dir_)\n",
    "f = files[0]\n",
    "signal, rate = librosa.load(f, sr=None)"
   ]
  },
  {
   "cell_type": "code",
   "execution_count": 4,
   "id": "e1996c55",
   "metadata": {},
   "outputs": [
    {
     "data": {
      "text/plain": [
       "4000"
      ]
     },
     "execution_count": 4,
     "metadata": {},
     "output_type": "execute_result"
    }
   ],
   "source": [
    "signal_time = 4    # each signal will have 4 seconds of duration\n",
    "target_rate = 1000    # resampling frequence\n",
    "new_signal = librosa.resample(signal, orig_sr=rate, target_sr=target_rate)\n",
    "len(new_signal)"
   ]
  },
  {
   "cell_type": "markdown",
   "metadata": {},
   "source": [
    "### Loading and resampling all the data"
   ]
  },
  {
   "cell_type": "markdown",
   "metadata": {},
   "source": [
    "Parameters definition"
   ]
  },
  {
   "cell_type": "code",
   "execution_count": 6,
   "metadata": {},
   "outputs": [],
   "source": [
    "signal_time = 4    # each signal will have 4 seconds of duration\n",
    "target_rate = 1000    # resampling frequence\n",
    "\n",
    "# MFCC parameters\n",
    "n_mfcc=40\n",
    "hop_length=round(target_rate*0.0125)\n",
    "win_length=round(target_rate*0.023)\n",
    "n_fft=2**14\n",
    "mfcc_time_size = 4*target_rate//hop_length+1\n",
    "\n",
    "dataset=np.zeros(shape=[len(files),4*target_rate])\n",
    "dataset_mfcc=np.zeros(shape=[len(files),n_mfcc,mfcc_time_size])"
   ]
  },
  {
   "cell_type": "markdown",
   "metadata": {},
   "source": [
    "Obtaining all the resampled data"
   ]
  },
  {
   "cell_type": "code",
   "execution_count": null,
   "metadata": {},
   "outputs": [],
   "source": [
    "idx = 0\n",
    "for i in range(1,11):\n",
    "    _wav_dir_=\"../UrbanSound8K/audio/fold\" + str(i) + '/'\n",
    "    files = librosa.util.find_files(_wav_dir_)\n",
    "    for f in files:\n",
    "        signal, rate = librosa.load(f, sr=None)\n",
    "        new_signal = librosa.resample(signal, orig_sr=rate, target_sr=target_rate)\n",
    "        if len(new_signal)<4*target_rate:\n",
    "            pass\n",
    "            # padding\n",
    "        dataset[idx] = new_signal\n",
    "        sig_mfcc =librosa.feature.mfcc(y=new_signal,sr=target_rate,n_fft=n_fft,hop_length=hop_length,win_length=win_length,n_mfcc=n_mfcc)\n",
    "        dataset_mfcc[idx] = sig_mfcc\n",
    "        idx += 1"
   ]
  },
  {
   "cell_type": "markdown",
   "metadata": {},
   "source": [
    "## Zero-padding"
   ]
  },
  {
   "cell_type": "markdown",
   "metadata": {},
   "source": [
    "### Alternative to zero-padding? Reflective padding"
   ]
  },
  {
   "cell_type": "markdown",
   "metadata": {},
   "source": [
    "Reflective Padding:\n",
    "\n",
    "    Reflecting the signal at its boundaries instead of zero padding can help preserve the continuity of the signal, preventing alterations of the signal's characteristics, something that might occur with zero padding.\n",
    "    It can also help reducing artifacts at the edges of the signal and providing a smooth transition from the original signal to the padded region.\n",
    "    We believe this approach is effective with sound data, due to its symmetric nature."
   ]
  },
  {
   "cell_type": "code",
   "execution_count": 5,
   "metadata": {},
   "outputs": [
    {
     "name": "stdout",
     "output_type": "stream",
     "text": [
      "Original Signal: [1 2 3 4 3 2 1]\n",
      "Padded Signal: [2 1 2 3 4 3 2 1 2 3]\n",
      "Padded Signal Duration: 10\n"
     ]
    }
   ],
   "source": [
    "def reflective_padding(signal, target_duration):\n",
    "    current_duration = len(signal)\n",
    "    \n",
    "    # Calculate the required padding on each side\n",
    "    padding_needed = target_duration - current_duration\n",
    "    left_padding = padding_needed // 2\n",
    "    right_padding = padding_needed - left_padding\n",
    "    \n",
    "    # Reflective padding on both sides\n",
    "    padded_signal = np.pad(signal, (left_padding, right_padding), 'reflect')\n",
    "    \n",
    "    return padded_signal\n",
    "\n",
    "# Example usage:\n",
    "# Assuming 'original_signal' is your input signal and 'target_duration' is 4 seconds\n",
    "original_signal = np.array([1, 2, 3, 4, 3, 2, 1])  # Replace this with your actual signal\n",
    "target_duration = 10\n",
    "\n",
    "padded_signal = reflective_padding(original_signal, target_duration)\n",
    "\n",
    "print(\"Original Signal:\", original_signal)\n",
    "print(\"Padded Signal:\", padded_signal)\n",
    "print(\"Padded Signal Duration:\", len(padded_signal))\n"
   ]
  }
 ],
 "metadata": {
  "kernelspec": {
   "display_name": "Python 3 (ipykernel)",
   "language": "python",
   "name": "python3"
  },
  "language_info": {
   "codemirror_mode": {
    "name": "ipython",
    "version": 3
   },
   "file_extension": ".py",
   "mimetype": "text/x-python",
   "name": "python",
   "nbconvert_exporter": "python",
   "pygments_lexer": "ipython3",
   "version": "3.8.18"
  }
 },
 "nbformat": 4,
 "nbformat_minor": 5
}
