{
 "cells": [
  {
   "cell_type": "code",
   "execution_count": 1,
   "metadata": {},
   "outputs": [],
   "source": [
    "import numpy as np"
   ]
  },
  {
   "cell_type": "code",
   "execution_count": null,
   "metadata": {},
   "outputs": [],
   "source": [
    "def reflective_padding(signal, target_duration):\n",
    "    current_duration = len(signal)\n",
    "    \n",
    "    # Calculate the required padding on each side\n",
    "    padding_needed = target_duration - current_duration\n",
    "    left_padding = padding_needed // 2\n",
    "    right_padding = padding_needed - left_padding\n",
    "    \n",
    "    # Reflective padding on both sides\n",
    "    padded_signal = np.pad(signal, (left_padding, right_padding), 'reflect')\n",
    "    \n",
    "    return padded_signal\n",
    "\n",
    "# Example usage:\n",
    "# Assuming 'original_signal' is your input signal and 'target_duration' is 4 seconds\n",
    "original_signal = np.array([1, 2, 3, 4, 3, 2, 1])  # Replace this with your actual signal\n",
    "target_duration = 10\n",
    "\n",
    "padded_signal = reflective_padding(original_signal, target_duration)\n",
    "\n",
    "print(\"Original Signal:\", original_signal)\n",
    "print(\"Padded Signal:\", padded_signal)\n",
    "print(\"Padded Signal Duration:\", len(padded_signal))"
   ]
  }
 ],
 "metadata": {
  "kernelspec": {
   "display_name": "tensorflow",
   "language": "python",
   "name": "python3"
  },
  "language_info": {
   "codemirror_mode": {
    "name": "ipython",
    "version": 3
   },
   "file_extension": ".py",
   "mimetype": "text/x-python",
   "name": "python",
   "nbconvert_exporter": "python",
   "pygments_lexer": "ipython3",
   "version": "3.8.18"
  }
 },
 "nbformat": 4,
 "nbformat_minor": 2
}
